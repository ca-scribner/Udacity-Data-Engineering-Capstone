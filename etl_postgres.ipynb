{
 "cells": [
  {
   "cell_type": "code",
   "execution_count": 1,
   "metadata": {},
   "outputs": [],
   "source": [
    "%load_ext autoreload\n",
    "%autoreload 2"
   ]
  },
  {
   "cell_type": "code",
   "execution_count": 2,
   "metadata": {},
   "outputs": [],
   "source": [
    "import psycopg2\n",
    "import pandas as pd\n",
    "import configparser"
   ]
  },
  {
   "cell_type": "code",
   "execution_count": 3,
   "metadata": {},
   "outputs": [],
   "source": [
    "from sql_postgres import insert_table_queries, load_staging_queries"
   ]
  },
  {
   "cell_type": "code",
   "execution_count": 4,
   "metadata": {},
   "outputs": [],
   "source": [
    "def load_staging_tables(engine, bucket, key, region, source_format, access_key, secret_key, ):\n",
    "    cur = engine.cursor()\n",
    "    for q in load_staging_queries:\n",
    "        q_settings = dict(\n",
    "            source_format=source_format,\n",
    "            bucket=bucket,\n",
    "            key=key,\n",
    "            region=region,\n",
    "            access_key=access_key,\n",
    "            secret_key=secret_key,\n",
    "        )\n",
    "        q = q.format(**q_settings)\n",
    "        \n",
    "        cur.execute(q)\n",
    "    engine.commit()"
   ]
  },
  {
   "cell_type": "code",
   "execution_count": 5,
   "metadata": {},
   "outputs": [],
   "source": [
    "def insert_tables(engine):\n",
    "    cur = engine.cursor()\n",
    "    for q in insert_table_queries:\n",
    "        cur.execute(q)\n",
    "    engine.commit()"
   ]
  },
  {
   "cell_type": "code",
   "execution_count": 6,
   "metadata": {},
   "outputs": [
    {
     "data": {
      "text/plain": [
       "['secrets.cfg']"
      ]
     },
     "execution_count": 6,
     "metadata": {},
     "output_type": "execute_result"
    }
   ],
   "source": [
    "secrets = configparser.ConfigParser()\n",
    "secrets.read('secrets.cfg')"
   ]
  },
  {
   "cell_type": "code",
   "execution_count": 7,
   "metadata": {},
   "outputs": [
    {
     "data": {
      "text/plain": [
       "['data.cfg']"
      ]
     },
     "execution_count": 7,
     "metadata": {},
     "output_type": "execute_result"
    }
   ],
   "source": [
    "data_cfg = configparser.ConfigParser()\n",
    "data_cfg.read('data.cfg')"
   ]
  },
  {
   "cell_type": "code",
   "execution_count": 15,
   "metadata": {},
   "outputs": [],
   "source": [
    "engine = psycopg2.connect(\n",
    "    database=secrets[\"postgres\"][\"database\"],\n",
    "    user=secrets[\"postgres\"][\"user\"],\n",
    "    password=secrets[\"postgres\"][\"password\"],\n",
    "    host=secrets[\"postgres\"][\"host\"],\n",
    "    port=secrets[\"postgres\"][\"port\"],\n",
    ")"
   ]
  },
  {
   "cell_type": "code",
   "execution_count": 9,
   "metadata": {},
   "outputs": [],
   "source": [
    "data_source = \"sales_raw_test\""
   ]
  },
  {
   "cell_type": "code",
   "execution_count": 12,
   "metadata": {},
   "outputs": [],
   "source": [
    "load_staging_tables(\n",
    "    engine, \n",
    "    source_format=data_cfg[data_source][\"source_format\"],\n",
    "    bucket=data_cfg[data_source][\"bucket\"],\n",
    "    key=data_cfg[data_source][\"key\"],\n",
    "    region=data_cfg[data_source][\"region\"],\n",
    "    access_key=secrets[\"aws\"][\"access_key\"],\n",
    "    secret_key=secrets[\"aws\"][\"secret_key\"],\n",
    ")\n"
   ]
  },
  {
   "cell_type": "code",
   "execution_count": 13,
   "metadata": {},
   "outputs": [],
   "source": [
    "insert_tables(engine)"
   ]
  },
  {
   "cell_type": "code",
   "execution_count": 16,
   "metadata": {},
   "outputs": [],
   "source": [
    "cur = engine.cursor()\n"
   ]
  },
  {
   "cell_type": "code",
   "execution_count": 23,
   "metadata": {},
   "outputs": [
    {
     "name": "stdout",
     "output_type": "stream",
     "text": [
      "<cursor object at 0x7f7a932db550; closed: 0>\n"
     ]
    }
   ],
   "source": [
    "print(cur)"
   ]
  },
  {
   "cell_type": "code",
   "execution_count": 32,
   "metadata": {},
   "outputs": [],
   "source": [
    "engine.close()"
   ]
  },
  {
   "cell_type": "code",
   "execution_count": 33,
   "metadata": {},
   "outputs": [],
   "source": [
    "cur.close()"
   ]
  },
  {
   "cell_type": "code",
   "execution_count": 17,
   "metadata": {},
   "outputs": [],
   "source": [
    "cur.execute(\"SELECT COUNT(*) FROM items\")\n",
    "results = cur.fetchall()"
   ]
  },
  {
   "cell_type": "code",
   "execution_count": 19,
   "metadata": {},
   "outputs": [
    {
     "data": {
      "text/plain": [
       "[(0,)]"
      ]
     },
     "execution_count": 19,
     "metadata": {},
     "output_type": "execute_result"
    }
   ],
   "source": [
    "results"
   ]
  },
  {
   "cell_type": "code",
   "execution_count": 28,
   "metadata": {},
   "outputs": [
    {
     "name": "stdout",
     "output_type": "stream",
     "text": [
      "(1583,)\n"
     ]
    }
   ],
   "source": [
    "for r in results:\n",
    "    print(r)"
   ]
  },
  {
   "cell_type": "code",
   "execution_count": null,
   "metadata": {},
   "outputs": [],
   "source": []
  }
 ],
 "metadata": {
  "kernelspec": {
   "display_name": "de_capstone",
   "language": "python",
   "name": "de_capstone"
  },
  "language_info": {
   "codemirror_mode": {
    "name": "ipython",
    "version": 3
   },
   "file_extension": ".py",
   "mimetype": "text/x-python",
   "name": "python",
   "nbconvert_exporter": "python",
   "pygments_lexer": "ipython3",
   "version": "3.7.4"
  }
 },
 "nbformat": 4,
 "nbformat_minor": 4
}
