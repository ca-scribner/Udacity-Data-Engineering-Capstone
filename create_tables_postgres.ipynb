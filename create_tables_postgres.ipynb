{
 "cells": [
  {
   "cell_type": "code",
   "execution_count": 1,
   "metadata": {},
   "outputs": [],
   "source": [
    "%load_ext autoreload\n",
    "%autoreload 2"
   ]
  },
  {
   "cell_type": "code",
   "execution_count": 2,
   "metadata": {},
   "outputs": [],
   "source": [
    "import psycopg2\n",
    "import pandas as pd\n",
    "import configparser"
   ]
  },
  {
   "cell_type": "code",
   "execution_count": 3,
   "metadata": {},
   "outputs": [],
   "source": [
    "# Needed?\n",
    "# from sql_postgres import create_staging_sales, drop_staging_sales\n",
    "# from sql_postgres import create_invoices, drop_invoices\n",
    "# from sql_postgres import create_items, drop_items\n",
    "# from sql_postgres import create_product_categories, drop_product_categories\n",
    "# from sql_postgres import create_stores, drop_stores\n",
    "\n",
    "from sql_postgres import create_staging_table_queries, create_table_queries\n",
    "from sql_postgres import drop_staging_table_queries, drop_table_queries"
   ]
  },
  {
   "cell_type": "code",
   "execution_count": 4,
   "metadata": {},
   "outputs": [],
   "source": [
    "def drop_tables(engine):\n",
    "    cur = engine.cursor()\n",
    "    for q in drop_staging_table_queries:\n",
    "        cur.execute(q)\n",
    "    \n",
    "    for q in drop_table_queries:\n",
    "        cur.execute(q)\n",
    "    \n",
    "    # Needed?\n",
    "#     engine.commit()"
   ]
  },
  {
   "cell_type": "code",
   "execution_count": 5,
   "metadata": {},
   "outputs": [],
   "source": [
    "def create_tables(engine):\n",
    "    cur = engine.cursor()\n",
    "    for q in create_staging_table_queries:\n",
    "        cur.execute(q)\n",
    "    \n",
    "    for q in create_table_queries:\n",
    "        print(q[:20])\n",
    "        cur.execute(q)\n",
    "    \n",
    "    # Needed?\n",
    "#     engine.commit()"
   ]
  },
  {
   "cell_type": "code",
   "execution_count": 6,
   "metadata": {},
   "outputs": [
    {
     "data": {
      "text/plain": [
       "['secrets.cfg']"
      ]
     },
     "execution_count": 6,
     "metadata": {},
     "output_type": "execute_result"
    }
   ],
   "source": [
    "secrets = configparser.ConfigParser()\n",
    "secrets.read('secrets.cfg')"
   ]
  },
  {
   "cell_type": "code",
   "execution_count": 7,
   "metadata": {},
   "outputs": [],
   "source": [
    "engine = psycopg2.connect(\n",
    "    database=secrets[\"postgres\"][\"database\"],\n",
    "    user=secrets[\"postgres\"][\"user\"],\n",
    "    password=secrets[\"postgres\"][\"password\"],\n",
    "    host=secrets[\"postgres\"][\"host\"],\n",
    "    port=secrets[\"postgres\"][\"port\"],\n",
    ")"
   ]
  },
  {
   "cell_type": "code",
   "execution_count": 8,
   "metadata": {},
   "outputs": [],
   "source": [
    "drop_tables(engine)"
   ]
  },
  {
   "cell_type": "code",
   "execution_count": 9,
   "metadata": {},
   "outputs": [
    {
     "name": "stdout",
     "output_type": "stream",
     "text": [
      "\n",
      "CREATE TABLE produc\n",
      "\n",
      "CREATE TABLE items \n",
      "\n",
      "CREATE TABLE stores\n",
      "\n",
      "CREATE TABLE invoic\n"
     ]
    }
   ],
   "source": [
    "create_tables(engine)"
   ]
  },
  {
   "cell_type": "code",
   "execution_count": null,
   "metadata": {},
   "outputs": [],
   "source": []
  }
 ],
 "metadata": {
  "kernelspec": {
   "display_name": "de_capstone",
   "language": "python",
   "name": "de_capstone"
  },
  "language_info": {
   "codemirror_mode": {
    "name": "ipython",
    "version": 3
   },
   "file_extension": ".py",
   "mimetype": "text/x-python",
   "name": "python",
   "nbconvert_exporter": "python",
   "pygments_lexer": "ipython3",
   "version": "3.7.4"
  }
 },
 "nbformat": 4,
 "nbformat_minor": 4
}
